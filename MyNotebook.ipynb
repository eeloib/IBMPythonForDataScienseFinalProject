{
    "nbformat_minor": 1, 
    "cells": [
        {
            "source": "# My Jupyter Notebook on IBM Watson", 
            "cell_type": "markdown", 
            "metadata": {
                "collapsed": true
            }
        }, 
        {
            "source": "**Elias**  \nGame Developer / Data Scientist", 
            "cell_type": "markdown", 
            "metadata": {}
        }, 
        {
            "source": "_I'm interested in data sciense mainly to learn how implements more accurated AI to my npc's, and too to increase my position to concurrency in job search._", 
            "cell_type": "markdown", 
            "metadata": {}
        }, 
        {
            "source": "### The code will import pandas, load file student_grades.csv , put then in a dataframe, and show in a table.", 
            "cell_type": "markdown", 
            "metadata": {}
        }, 
        {
            "execution_count": 14, 
            "cell_type": "code", 
            "metadata": {}, 
            "outputs": [
                {
                    "execution_count": 14, 
                    "metadata": {}, 
                    "data": {
                        "text/html": "<div>\n<style scoped>\n    .dataframe tbody tr th:only-of-type {\n        vertical-align: middle;\n    }\n\n    .dataframe tbody tr th {\n        vertical-align: top;\n    }\n\n    .dataframe thead th {\n        text-align: right;\n    }\n</style>\n<table border=\"1\" class=\"dataframe\">\n  <thead>\n    <tr style=\"text-align: right;\">\n      <th></th>\n      <th>Student</th>\n      <th>Grade</th>\n    </tr>\n  </thead>\n  <tbody>\n    <tr>\n      <th>0</th>\n      <td>John Smith</td>\n      <td>80</td>\n    </tr>\n    <tr>\n      <th>1</th>\n      <td>Jane Smith</td>\n      <td>75</td>\n    </tr>\n    <tr>\n      <th>2</th>\n      <td>John Doe</td>\n      <td>65</td>\n    </tr>\n    <tr>\n      <th>3</th>\n      <td>Jane Doe</td>\n      <td>90</td>\n    </tr>\n  </tbody>\n</table>\n</div>", 
                        "text/plain": "      Student  Grade\n0  John Smith     80\n1  Jane Smith     75\n2    John Doe     65\n3    Jane Doe     90"
                    }, 
                    "output_type": "execute_result"
                }
            ], 
            "source": "import pandas as pd\nfile = \"https://d3c33hcgiwev3.cloudfront.net/_a056ded6c3f894fa24f2efed29869d1b_student_grades.csv?Expires=1561507200&Signature=QHXpx~AUjwRQ66tZ-DglJutw7aYkWKn6K2XFGYwuAkoN3x58TAzAcThyRmF9PMedj43L-ml4ZvG9ZEpCAaGQCLW2BbWFjUoJJ1GLAjcfUXHBoOjCYb-hYi6gW8H-vfcHtMOFjoQkcTsnDtEuk2vXRU3Q1tAbMgHs2Eut-fZc6r8_&Key-Pair-Id=APKAJLTNE6QMUY6HBC5A\"\ndf = pd.read_csv(file)\ndf.head()"
        }, 
        {
            "source": "This a list of Students Ordered by grade\n***  \n1. Jane Doe  \n2. John Smith\n3. Jane Smith\n4. John Doe\n***\nThe best student is\n___\n* Jane Doe  \n\n[Link to markdown syntax reference](https://github.com/adam-p/markdown-here/wiki/Markdown-Cheatsheet)  \n![Reference to get markdown syntax](https://github.com/adam-p/markdown-here/raw/master/src/common/images/icon48.png \"Reference to get markdown syntax\")\n", 
            "cell_type": "markdown", 
            "metadata": {}
        }
    ], 
    "metadata": {
        "kernelspec": {
            "display_name": "Python 3.6 with Spark", 
            "name": "python36", 
            "language": "python3"
        }, 
        "language_info": {
            "mimetype": "text/x-python", 
            "nbconvert_exporter": "python", 
            "version": "3.6.8", 
            "name": "python", 
            "file_extension": ".py", 
            "pygments_lexer": "ipython3", 
            "codemirror_mode": {
                "version": 3, 
                "name": "ipython"
            }
        }
    }, 
    "nbformat": 4
}